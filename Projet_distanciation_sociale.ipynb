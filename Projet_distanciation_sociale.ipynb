{
 "cells": [
  {
   "cell_type": "code",
   "execution_count": 4,
   "id": "957ef995",
   "metadata": {},
   "outputs": [
    {
     "name": "stdout",
     "output_type": "stream",
     "text": [
      "Veuillez-vous Enter La Distance En Centimètre : 100\n"
     ]
    }
   ],
   "source": [
    "#importer les packages et les modules nécessaires\n",
    "import numpy as np\n",
    "import cv2\n",
    "import math\n",
    "# initialiser le descripteur HOG/détecteur de personne\n",
    "hog = cv2.HOGDescriptor()\n",
    "hog.setSVMDetector(cv2.HOGDescriptor_getDefaultPeopleDetector())\n",
    "cv2.startWindowThread()\n",
    "# ouvrir une video\n",
    "cap = cv2.VideoCapture(\"video1.mp4\")\n",
    "# la sortie sera écrite dans video_output.avi\n",
    "frame_width = int(cap.get(3))\n",
    "frame_height = int(cap.get(4))\n",
    "out = cv2.VideoWriter('video_output.avi',cv2.VideoWriter_fourcc('M','J','P','G'), 10, (frame_width,frame_height))\n",
    "distance = float(input(\"Veuillez-vous Enter La Distance En Centimètre : \"))\n",
    "while True:\n",
    "    count_pers_contr = 0\n",
    "    # Capture frame-by-frame\n",
    "    ret, frame = cap.read()\n",
    "    if ret==True:\n",
    "        gray = cv2.cvtColor(frame, cv2.COLOR_RGB2GRAY)\n",
    "        # détecter les personnes dans l'image\n",
    "        boxes, weights = hog.detectMultiScale(frame, winStride=(8, 8))\n",
    "        boxes = np.array([[x, y, x + w, y + h] for (x, y, w, h) in boxes])\n",
    "        for (x, y, w, h) in boxes:\n",
    "            distance_pers = 0\n",
    "            mustbered = False\n",
    "            for (x1, y1, w1, h1) in boxes:\n",
    "                if x != x1 and y1 != y:\n",
    "                    # 3) Calcul des distances entre chaque couple de personnes\n",
    "                    distance_pers = math.sqrt(((x + w // 2) - (x1 + w1 // 2)) ** 2 + ((y + h // 2) - (y1 + h // 2)) ** 2)\n",
    "                    # 4) Vérifier, pour chaque couple de personnes, si la distance est inférieure à un seuil donné\n",
    "                    if distance_pers < distance:\n",
    "                        mustbered = True\n",
    "                        count_pers_contr = count_pers_contr + 1\n",
    "                    if mustbered:\n",
    "                        cv2.rectangle(frame, (x, y), (x + 70, y + 110), (0, 0, 255), 2)\n",
    "                        cv2.putText(frame, \"Attention\", (x, y), cv2.FONT_HERSHEY_COMPLEX, 0.4, (0, 0, 255), 2)\n",
    "                    else:\n",
    "                        cv2.rectangle(frame, (x, y), (x + 70, y + 110), (0, 255, 0), 2)\n",
    "                        \n",
    "        # 5) Afficher le résultat\n",
    "        cv2.rectangle(frame, (0, 0), (140, 60), (0, 0, 0), -1)\n",
    "        cv2.putText(frame, \"Respect: \" + str(boxes.shape[0]-count_pers_contr), (10, 10), cv2.FONT_HERSHEY_COMPLEX, 0.4, (0, 255, 0), 2)\n",
    "        cv2.putText(frame, \"Contre: \" + str(count_pers_contr), (10, 30), cv2.FONT_HERSHEY_COMPLEX, 0.4, (0, 0, 155), 2)\n",
    "        cv2.putText(frame, \"N Personnes: \" + str(boxes.shape[0]), (10, 50), cv2.FONT_HERSHEY_COMPLEX, 0.4, (255, 0, 0),2)\n",
    "        # enregistrement de la vidéo de sortie\n",
    "        out.write(frame)\n",
    "        cv2.imshow('Distanciation sociale', frame)\n",
    "        if cv2.waitKey(1)==27:\n",
    "            break\n",
    "    else:\n",
    "        break\n",
    "\n",
    "cap.release()\n",
    "out.release()\n",
    "cv2.destroyAllWindows()"
   ]
  },
  {
   "cell_type": "code",
   "execution_count": null,
   "id": "2dfd3c21",
   "metadata": {},
   "outputs": [],
   "source": []
  }
 ],
 "metadata": {
  "kernelspec": {
   "display_name": "Python 3 (ipykernel)",
   "language": "python",
   "name": "python3"
  },
  "language_info": {
   "codemirror_mode": {
    "name": "ipython",
    "version": 3
   },
   "file_extension": ".py",
   "mimetype": "text/x-python",
   "name": "python",
   "nbconvert_exporter": "python",
   "pygments_lexer": "ipython3",
   "version": "3.9.7"
  }
 },
 "nbformat": 4,
 "nbformat_minor": 5
}
